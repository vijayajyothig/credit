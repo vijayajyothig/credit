{
 "cells": [
  {
   "cell_type": "code",
   "execution_count": 1,
   "id": "2ce13afe",
   "metadata": {},
   "outputs": [],
   "source": [
    "import numpy as np\n",
    "import pandas as pd\n",
    "import matplotlib.pyplot as plt\n",
    "import seaborn as sns"
   ]
  },
  {
   "cell_type": "code",
   "execution_count": 21,
   "id": "6923c0f9",
   "metadata": {},
   "outputs": [],
   "source": [
    "from sklearn.tree import DecisionTreeClassifier\n",
    "from sklearn.ensemble import RandomForestClassifier\n",
    "from sklearn.model_selection import train_test_split\n",
    "from sklearn.preprocessing import  StandardScaler"
   ]
  },
  {
   "cell_type": "code",
   "execution_count": 38,
   "id": "730fb411",
   "metadata": {},
   "outputs": [],
   "source": [
    "data= pd.read_csv(\"creditcard.csv\")"
   ]
  },
  {
   "cell_type": "code",
   "execution_count": 55,
   "id": "b978a59d",
   "metadata": {},
   "outputs": [
    {
     "data": {
      "text/plain": [
       "(11664, 32)"
      ]
     },
     "execution_count": 55,
     "metadata": {},
     "output_type": "execute_result"
    }
   ],
   "source": [
    "data.shape"
   ]
  },
  {
   "cell_type": "code",
   "execution_count": 56,
   "id": "f0b1f2b1",
   "metadata": {},
   "outputs": [
    {
     "name": "stdout",
     "output_type": "stream",
     "text": [
      "<class 'pandas.core.frame.DataFrame'>\n",
      "Int64Index: 11664 entries, 0 to 11663\n",
      "Data columns (total 32 columns):\n",
      " #   Column            Non-Null Count  Dtype  \n",
      "---  ------            --------------  -----  \n",
      " 0   Time              11664 non-null  int64  \n",
      " 1   V1                11664 non-null  float64\n",
      " 2   V2                11664 non-null  float64\n",
      " 3   V3                11664 non-null  float64\n",
      " 4   V4                11664 non-null  float64\n",
      " 5   V5                11664 non-null  float64\n",
      " 6   V6                11664 non-null  float64\n",
      " 7   V7                11664 non-null  float64\n",
      " 8   V8                11664 non-null  float64\n",
      " 9   V9                11664 non-null  float64\n",
      " 10  V10               11664 non-null  float64\n",
      " 11  V11               11664 non-null  float64\n",
      " 12  V12               11664 non-null  float64\n",
      " 13  V13               11664 non-null  float64\n",
      " 14  V14               11664 non-null  float64\n",
      " 15  V15               11664 non-null  float64\n",
      " 16  V16               11664 non-null  float64\n",
      " 17  V17               11664 non-null  float64\n",
      " 18  V18               11664 non-null  float64\n",
      " 19  V19               11664 non-null  float64\n",
      " 20  V20               11664 non-null  float64\n",
      " 21  V21               11664 non-null  float64\n",
      " 22  V22               11664 non-null  float64\n",
      " 23  V23               11664 non-null  float64\n",
      " 24  V24               11664 non-null  float64\n",
      " 25  V25               11664 non-null  float64\n",
      " 26  V26               11664 non-null  float64\n",
      " 27  V27               11664 non-null  float64\n",
      " 28  V28               11664 non-null  float64\n",
      " 29  Amount            11664 non-null  float64\n",
      " 30  Class             11664 non-null  float64\n",
      " 31  NormalizedAmount  11664 non-null  float64\n",
      "dtypes: float64(31), int64(1)\n",
      "memory usage: 2.9 MB\n"
     ]
    }
   ],
   "source": [
    "data.info()"
   ]
  },
  {
   "cell_type": "code",
   "execution_count": null,
   "id": "c6d07846",
   "metadata": {},
   "outputs": [],
   "source": []
  },
  {
   "cell_type": "code",
   "execution_count": 39,
   "id": "fff0592a",
   "metadata": {},
   "outputs": [
    {
     "name": "stdout",
     "output_type": "stream",
     "text": [
      "Time      0\n",
      "V1        0\n",
      "V2        0\n",
      "V3        0\n",
      "V4        0\n",
      "V5        0\n",
      "V6        0\n",
      "V7        0\n",
      "V8        0\n",
      "V9        0\n",
      "V10       0\n",
      "V11       0\n",
      "V12       1\n",
      "V13       1\n",
      "V14       1\n",
      "V15       1\n",
      "V16       1\n",
      "V17       1\n",
      "V18       1\n",
      "V19       1\n",
      "V20       1\n",
      "V21       1\n",
      "V22       1\n",
      "V23       1\n",
      "V24       1\n",
      "V25       1\n",
      "V26       1\n",
      "V27       1\n",
      "V28       1\n",
      "Amount    1\n",
      "Class     1\n",
      "dtype: int64\n"
     ]
    }
   ],
   "source": [
    "missing_values = data.isnull().sum()\n",
    "print(missing_values)"
   ]
  },
  {
   "cell_type": "code",
   "execution_count": 46,
   "id": "e423c7d7",
   "metadata": {},
   "outputs": [],
   "source": [
    "data =data.dropna()"
   ]
  },
  {
   "cell_type": "code",
   "execution_count": 47,
   "id": "514d7259",
   "metadata": {},
   "outputs": [
    {
     "name": "stdout",
     "output_type": "stream",
     "text": [
      "Number of genuine transactions: 11615\n",
      "Number of fraud transactions: 49\n",
      "Percentage of fraud transactions: 0.4200960219478738\n"
     ]
    }
   ],
   "source": [
    "genuine_count = data[data['Class'] == 0]['Class'].count()\n",
    "fraud_count = data[data['Class'] == 1]['Class'].count()\n",
    "fraud_percentage = (fraud_count / (genuine_count + fraud_count)) * 100\n",
    "\n",
    "print(\"Number of genuine transactions:\", genuine_count)\n",
    "print(\"Number of fraud transactions:\", fraud_count)\n",
    "print(\"Percentage of fraud transactions:\", fraud_percentage)\n"
   ]
  },
  {
   "cell_type": "code",
   "execution_count": 48,
   "id": "89cd4a40",
   "metadata": {},
   "outputs": [
    {
     "data": {
      "image/png": "[encoded data removed]",
      "text/plain": [
       "<Figure size 432x288 with 1 Axes>"
      ]
     },
     "metadata": {
      "needs_background": "light"
     },
     "output_type": "display_data"
    }
   ],
   "source": [
    "import matplotlib.pyplot as plt\n",
    "\n",
    "transaction_counts = data['Class'].value_counts()\n",
    "transaction_counts.plot(kind='bar', rot=0)\n",
    "plt.xlabel(\"Transaction Type\")\n",
    "plt.ylabel(\"Count\")\n",
    "plt.title(\"Genuine vs. Fraudulent Transactions\")\n",
    "plt.xticks([0, 1], ['Genuine', 'Fraud'])\n",
    "plt.show()\n"
   ]
  },
  {
   "cell_type": "code",
   "execution_count": 49,
   "id": "eb42c1f5",
   "metadata": {},
   "outputs": [],
   "source": [
    "from sklearn.preprocessing import StandardScaler\n",
    "\n",
    "scaler = StandardScaler()\n",
    "data['NormalizedAmount'] = scaler.fit_transform(data['Amount'].values.reshape(-1, 1))\n"
   ]
  },
  {
   "cell_type": "code",
   "execution_count": 50,
   "id": "d0d62489",
   "metadata": {},
   "outputs": [],
   "source": [
    "from sklearn.model_selection import train_test_split\n",
    "\n",
    "X = data.drop(['Class'], axis=1)\n",
    "y = data['Class']\n",
    "\n",
    "X_train, X_test, y_train, y_test = train_test_split(X, y, test_size=0.3, random_state=42)\n"
   ]
  },
  {
   "cell_type": "code",
   "execution_count": 51,
   "id": "7eef549d",
   "metadata": {},
   "outputs": [
    {
     "data": {
      "text/plain": [
       "RandomForestClassifier()"
      ]
     },
     "execution_count": 51,
     "metadata": {},
     "output_type": "execute_result"
    }
   ],
   "source": [
    "from sklearn.tree import DecisionTreeClassifier\n",
    "from sklearn.ensemble import RandomForestClassifier\n",
    "\n",
    "decision_tree = DecisionTreeClassifier()\n",
    "random_forest = RandomForestClassifier()\n",
    "\n",
    "decision_tree.fit(X_train, y_train)\n",
    "random_forest.fit(X_train, y_train)\n"
   ]
  },
  {
   "cell_type": "code",
   "execution_count": 52,
   "id": "8beea293",
   "metadata": {},
   "outputs": [],
   "source": [
    "decision_tree_predictions = decision_tree.predict(X_test)\n",
    "random_forest_predictions = random_forest.predict(X_test)\n"
   ]
  },
  {
   "cell_type": "code",
   "execution_count": 53,
   "id": "7421156c",
   "metadata": {},
   "outputs": [
    {
     "name": "stdout",
     "output_type": "stream",
     "text": [
      "Decision Tree Accuracy: 0.9985714285714286\n",
      "Random Forest Accuracy: 0.9991428571428571\n"
     ]
    }
   ],
   "source": [
    "decision_tree_accuracy = decision_tree.score(X_test, y_test)\n",
    "random_forest_accuracy = random_forest.score(X_test, y_test)\n",
    "\n",
    "print(\"Decision Tree Accuracy:\", decision_tree_accuracy)\n",
    "print(\"Random Forest Accuracy:\", random_forest_accuracy)\n"
   ]
  },
  {
   "cell_type": "code",
   "execution_count": 54,
   "id": "30dfd14c",
   "metadata": {},
   "outputs": [
    {
     "name": "stdout",
     "output_type": "stream",
     "text": [
      "Decision Tree Performance Metrics:\n",
      "              precision    recall  f1-score   support\n",
      "\n",
      "         0.0       1.00      1.00      1.00      3484\n",
      "         1.0       0.82      0.88      0.85        16\n",
      "\n",
      "    accuracy                           1.00      3500\n",
      "   macro avg       0.91      0.94      0.92      3500\n",
      "weighted avg       1.00      1.00      1.00      3500\n",
      "\n",
      "\n",
      "Random Forest Performance Metrics:\n",
      "              precision    recall  f1-score   support\n",
      "\n",
      "         0.0       1.00      1.00      1.00      3484\n",
      "         1.0       0.93      0.88      0.90        16\n",
      "\n",
      "    accuracy                           1.00      3500\n",
      "   macro avg       0.97      0.94      0.95      3500\n",
      "weighted avg       1.00      1.00      1.00      3500\n",
      "\n"
     ]
    }
   ],
   "source": [
    "from sklearn.metrics import classification_report\n",
    "\n",
    "decision_tree_report = classification_report(y_test, decision_tree_predictions)\n",
    "random_forest_report = classification_report(y_test, random_forest_predictions)\n",
    "\n",
    "print(\"Decision Tree Performance Metrics:\")\n",
    "print(decision_tree_report)\n",
    "print(\"\\nRandom Forest Performance Metrics:\")\n",
    "print(random_forest_report)\n"
   ]
  },
  {
   "cell_type": "code",
   "execution_count": null,
   "id": "6427e720",
   "metadata": {},
   "outputs": [],
   "source": []
  },
  {
   "cell_type": "code",
   "execution_count": null,
   "id": "1c1fdc46",
   "metadata": {},
   "outputs": [],
   "source": []
  }
 ],
 "metadata": {
  "kernelspec": {
   "display_name": "Python 3",
   "language": "python",
   "name": "python3"
  },
  "language_info": {
   "codemirror_mode": {
    "name": "ipython",
    "version": 3
   },
   "file_extension": ".py",
   "mimetype": "text/x-python",
   "name": "python",
   "nbconvert_exporter": "python",
   "pygments_lexer": "ipython3",
   "version": "3.7.4"
  }
 },
 "nbformat": 4,
 "nbformat_minor": 5
}
